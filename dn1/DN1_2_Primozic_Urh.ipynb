{
 "cells": [
  {
   "cell_type": "markdown",
   "metadata": {},
   "source": [
    "### DN1 - Naloga 3\n",
    "Avtor: Urh Primožič"
   ]
  },
  {
   "cell_type": "markdown",
   "metadata": {},
   "source": [
    "Podatke uvozim in razdelim. Ker bom uporabljal knn, jih bom še reskaliral."
   ]
  },
  {
   "cell_type": "code",
   "execution_count": 52,
   "metadata": {},
   "outputs": [],
   "source": [
    "import pandas as pd #cvs importing\n",
    "import numpy as np\n",
    "from sklearn.model_selection import GridSearchCV, train_test_split\n",
    "from sklearn.neighbors import KNeighborsClassifier\n",
    "from sklearn.preprocessing import MinMaxScaler, PolynomialFeatures\n",
    "\n",
    "df = pd.read_csv('podatki_DN1_2.csv', header=0)\n",
    "columns = df.columns[1:] #1. stolpec je le dekoracijski\n",
    "df = df[columns]\n",
    "X = df[['x1', 'x2', 'x3', 'x4']]\n",
    "y = df['y']\n",
    "# pretvorim y v {0, 1}, ker lažje delam s tem\n",
    "y = y.map(lambda x : 1 if x== 'da' else 0) \n",
    "\n",
    "# vrednosti v X spravim na (0,1)\n",
    "scaler = MinMaxScaler()\n",
    "X = scaler.fit_transform(X)\n",
    "\n",
    "#razdelim podatke\n",
    "RANDOM_SEED = 420 # da mi med testiranjem doma vedno da enake rezultate\n",
    "X_train, X_test, y_train, y_test = train_test_split(X, y, train_size=3/4, stratify=y, random_state= RANDOM_SEED)\n"
   ]
  },
  {
   "cell_type": "markdown",
   "metadata": {},
   "source": [
    "Radi bi pravilno zaznali čim več enic in imeli čim manj lažno negativnih (ničelnih). Torej hočemo čim večji priklic. "
   ]
  },
  {
   "cell_type": "code",
   "execution_count": 53,
   "metadata": {},
   "outputs": [
    {
     "name": "stdout",
     "output_type": "stream",
     "text": [
      "Priklic:  0.6952380952380952\n",
      "Optimalni parametri:  {'n_neighbors': 7}\n",
      "Točnost modela je 0.9426666666666667 na učni in 0.924 na testni.\n",
      "Priklic modela je 0.7037037037037037 na učni in 0.6944444444444444 na testni.\n",
      "Preciznost modela je 0.8735632183908046 na učni in 0.7575757575757576 na testni.\n"
     ]
    }
   ],
   "source": [
    "from sklearn.metrics import RocCurveDisplay, recall_score, accuracy_score, precision_score, roc_auc_score, roc_curve\n",
    "\n",
    "k_range = list(range(1, 50))\n",
    "knn = KNeighborsClassifier()\n",
    "param_grid = dict(n_neighbors=k_range)\n",
    "# grid with 10 folkd cross validation\n",
    "grid = GridSearchCV(knn, param_grid,  cv=5, scoring='recall')\n",
    "grid.fit(X_train, y_train)\n",
    "\n",
    "print('Priklic: ', grid.best_score_)\n",
    "print('Optimalni parametri: ', grid.best_params_)\n",
    "print(f\"Točnost modela je {accuracy_score(y_train, grid.predict(X_train))} na učni in {accuracy_score(y_test, grid.predict(X_test))} na testni.\")\n",
    "print(f\"Priklic modela je {recall_score(y_train, grid.predict(X_train))} na učni in {recall_score(y_test, grid.predict(X_test))} na testni.\")\n",
    "print(f\"Preciznost modela je {precision_score(y_train, grid.predict(X_train))} na učni in {precision_score(y_test, grid.predict(X_test))} na testni.\")\n",
    "\n",
    "\n"
   ]
  },
  {
   "cell_type": "markdown",
   "metadata": {},
   "source": [
    "ROC krivulja"
   ]
  },
  {
   "cell_type": "code",
   "execution_count": 65,
   "metadata": {},
   "outputs": [
    {
     "data": {
      "image/png": "[encoded data removed]",
      "text/plain": [
       "<Figure size 432x288 with 1 Axes>"
      ]
     },
     "metadata": {
      "needs_background": "light"
     },
     "output_type": "display_data"
    },
    {
     "data": {
      "text/plain": [
       "<sklearn.metrics._plot.roc_curve.RocCurveDisplay at 0x7fa358bc2550>"
      ]
     },
     "execution_count": 65,
     "metadata": {},
     "output_type": "execute_result"
    },
    {
     "data": {
      "image/png": "[encoded data removed]",
      "text/plain": [
       "<Figure size 432x288 with 1 Axes>"
      ]
     },
     "metadata": {
      "needs_background": "light"
     },
     "output_type": "display_data"
    }
   ],
   "source": [
    "import matplotlib.pyplot as plt\n",
    "# moja implementacija\n",
    "\n",
    "\n",
    "def ROC_curve(X, y, model):\n",
    "    '''\n",
    "    Izračuna možne  tresholde\n",
    "    Parametri\n",
    "    ----------\n",
    "    - X, y - podatki\n",
    "    - model - model z metodo predict_proba()\n",
    "    '''\n",
    "    \n",
    "    # možne thete\n",
    "    # dokumentacija: moreš vzet higher label za probabilities\n",
    "    thetas = model.predict_proba(X)[:, 1]\n",
    "    TPRs = []\n",
    "    FPRs = []\n",
    "    for theta in thetas:\n",
    "        P = np.sum(y)\n",
    "        N = len(y)  - P\n",
    "        predictions = np.array(\n",
    "            list(map(lambda x: 1 if x >= theta else 0, thetas)))\n",
    "        positive_y = predictions[y == 1]\n",
    "        TP = np.sum(positive_y == 1)\n",
    "        FP = np.sum(predictions) - TP\n",
    "\n",
    "        TPR = TP/P\n",
    "        FPR = FP/N\n",
    "        TPRs.append(TPR)\n",
    "        FPRs.append(FPR)\n",
    "    return [FPRs, TPRs]\n",
    "\n",
    "\n",
    "# nariši ROC\n",
    "tocke = ROC_curve(X_train, y_train, grid)\n",
    "\n",
    "# sorting točk, da mi yplot lepo poveže\n",
    "sorted_list = sorted(range(len(tocke[0])), key=lambda a: tocke[0][a])\n",
    "tocke_x = [tocke[0][i] for i in sorted_list]\n",
    "tocke_y = [tocke[1][i] for i in sorted_list]\n",
    "plt.plot(tocke_x, tocke_y, 'r')\n",
    "plt.title('Graf moje krivulje')\n",
    "plt.show()\n",
    "RocCurveDisplay.from_estimator(grid, X_train, y_train)"
   ]
  },
  {
   "cell_type": "markdown",
   "metadata": {},
   "source": [
    "Krivulji sta enaki. Izračunajmo še ploščino."
   ]
  },
  {
   "cell_type": "code",
   "execution_count": 55,
   "metadata": {},
   "outputs": [
    {
     "name": "stdout",
     "output_type": "stream",
     "text": [
      "AOC po moji metodi je 0.9757557401638399, po metodi iz scikit-learn pa 0.9757557401638399.\n"
     ]
    }
   ],
   "source": [
    "def trapezna_metoda_za_pozitivne(tocke_x, tocke_y):\n",
    "    S = 0\n",
    "    x0, y0 = tocke_x[0], tocke_y[0]\n",
    "    for i  in range(len(tocke_x)):\n",
    "        x = tocke_x[i]\n",
    "        y = tocke_y[i]\n",
    "        dx = x - x0 \n",
    "        dy = y - y0\n",
    "        S += dx*y0 + 0.5 * dx*dy\n",
    "        x0, y0 = x, y\n",
    "    return S \n",
    "AOC_moje = trapezna_metoda_za_pozitivne(tocke_x, tocke_y)\n",
    "AUC_prava = roc_auc_score(y_train, grid.predict_proba(X_train)[:,1])\n",
    "print(f\"AOC po moji metodi je {AOC_moje}, po metodi iz scikit-learn pa {AUC_prava}.\")"
   ]
  },
  {
   "cell_type": "markdown",
   "metadata": {},
   "source": [
    "Primerjava modela najbližjih sosedov in logistične regresije"
   ]
  },
  {
   "cell_type": "code",
   "execution_count": 85,
   "metadata": {},
   "outputs": [
    {
     "data": {
      "image/png": "[encoded data removed]",
      "text/plain": [
       "<Figure size 432x288 with 1 Axes>"
      ]
     },
     "metadata": {
      "needs_background": "light"
     },
     "output_type": "display_data"
    },
    {
     "name": "stdout",
     "output_type": "stream",
     "text": [
      "Izbrani prag je  0.09095572564879349\n"
     ]
    }
   ],
   "source": [
    "# poskusimo s polinomskimi členi do druge stopnje\n",
    "from sklearn.linear_model import LogisticRegressionCV, LogisticRegression\n",
    "poly = PolynomialFeatures(2)\n",
    "# feature 1 ignoriramo, ker je 1\n",
    "X1_train = poly.fit_transform(X_train)[:, 1:]\n",
    "X1_test = poly.fit_transform(X_test)[:, 1:]\n",
    "reg = LogisticRegression(scoring='recall')\n",
    "#reg = LogisticRegressionCV(scoring='recall')\n",
    "reg.fit(X_train, y_train)\n",
    "\n",
    "# še en knn model, tokrat je k izbran glede na opt. krivuljo\n",
    "knn_roc_auc = GridSearchCV(knn, param_grid,  cv=5, scoring='roc_auc')\n",
    "knn_roc_auc.fit(X_train, y_train)\n",
    "\n",
    "curve_reg = roc_curve(y_test, reg.predict_proba(X_test)[:,1])\n",
    "curve_knn = roc_curve(y_test, grid.predict_proba(X_test)[:,1])\n",
    "curve_knn_roc_auc = roc_curve(y_test, knn_roc_auc.predict_proba(X_test)[:,1])\n",
    "\n",
    "plt.plot(curve_reg[0], curve_reg[1], 'r', label='Linearna regresija')\n",
    "plt.plot(curve_knn[0], curve_knn[1], 'g', label = 'Najbližji sosedi')\n",
    "plt.plot(curve_knn_roc_auc[0], curve_knn_roc_auc[1], 'b-.', label = 'knn (max auc)')\n",
    "\n",
    "# izbrana vrednost\n",
    "T_x = curve_reg[0][-4]\n",
    "T_y = curve_reg[1][-4]\n",
    "theta = curve_reg[2][-4]\n",
    "\n",
    "plt.plot(T_x, T_y, 'yo', label='Izbrana vrednost')\n",
    "plt.legend(loc=\"lower right\")\n",
    "plt.title('Krivulji regresije in knn')\n",
    "plt.show()\n",
    "print('Izbrani prag je ', theta)"
   ]
  },
  {
   "cell_type": "markdown",
   "metadata": {},
   "source": [
    "Izbral bi linearni model in $\\theta = 0.091$, saj ima ta model najmanjšo napako in pri izbrani $\\theta$ z zadovoljivo natačnostjo napove vrednosti z malim priklicom."
   ]
  }
 ],
 "metadata": {
  "interpreter": {
   "hash": "31f2aee4e71d21fbe5cf8b01ff0e069b9275f58929596ceb00d14d90e3e16cd6"
  },
  "kernelspec": {
   "display_name": "Python 3.8.10 64-bit",
   "language": "python",
   "name": "python3"
  },
  "language_info": {
   "codemirror_mode": {
    "name": "ipython",
    "version": 3
   },
   "file_extension": ".py",
   "mimetype": "text/x-python",
   "name": "python",
   "nbconvert_exporter": "python",
   "pygments_lexer": "ipython3",
   "version": "3.8.10"
  },
  "orig_nbformat": 4
 },
 "nbformat": 4,
 "nbformat_minor": 2
}
