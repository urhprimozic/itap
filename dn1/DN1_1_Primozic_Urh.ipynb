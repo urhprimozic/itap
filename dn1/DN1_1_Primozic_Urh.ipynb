{
 "cells": [
  {
   "cell_type": "markdown",
   "metadata": {},
   "source": [
    "### DN1 - Naloga 1\n",
    "Avtor: Urh Primožič"
   ]
  },
  {
   "cell_type": "markdown",
   "metadata": {},
   "source": [
    "Najprej razdelimo podatke na testno in učno množico."
   ]
  },
  {
   "cell_type": "code",
   "execution_count": 2,
   "metadata": {},
   "outputs": [
    {
     "data": {
      "text/html": [
       "<div>\n",
       "<style scoped>\n",
       "    .dataframe tbody tr th:only-of-type {\n",
       "        vertical-align: middle;\n",
       "    }\n",
       "\n",
       "    .dataframe tbody tr th {\n",
       "        vertical-align: top;\n",
       "    }\n",
       "\n",
       "    .dataframe thead th {\n",
       "        text-align: right;\n",
       "    }\n",
       "</style>\n",
       "<table border=\"1\" class=\"dataframe\">\n",
       "  <thead>\n",
       "    <tr style=\"text-align: right;\">\n",
       "      <th></th>\n",
       "      <th>x1</th>\n",
       "      <th>x2</th>\n",
       "      <th>x3</th>\n",
       "      <th>x4</th>\n",
       "      <th>x5</th>\n",
       "      <th>y</th>\n",
       "    </tr>\n",
       "  </thead>\n",
       "  <tbody>\n",
       "    <tr>\n",
       "      <th>0</th>\n",
       "      <td>10.493885</td>\n",
       "      <td>-0.359581</td>\n",
       "      <td>0.254364</td>\n",
       "      <td>0.593046</td>\n",
       "      <td>0.432593</td>\n",
       "      <td>0.023722</td>\n",
       "    </tr>\n",
       "    <tr>\n",
       "      <th>1</th>\n",
       "      <td>12.481717</td>\n",
       "      <td>-0.796263</td>\n",
       "      <td>1.193631</td>\n",
       "      <td>-1.098599</td>\n",
       "      <td>0.721224</td>\n",
       "      <td>0.014009</td>\n",
       "    </tr>\n",
       "    <tr>\n",
       "      <th>2</th>\n",
       "      <td>17.110862</td>\n",
       "      <td>0.696601</td>\n",
       "      <td>0.289725</td>\n",
       "      <td>0.392631</td>\n",
       "      <td>0.202218</td>\n",
       "      <td>0.012581</td>\n",
       "    </tr>\n",
       "    <tr>\n",
       "      <th>3</th>\n",
       "      <td>10.305360</td>\n",
       "      <td>0.410720</td>\n",
       "      <td>0.030711</td>\n",
       "      <td>0.430333</td>\n",
       "      <td>0.843228</td>\n",
       "      <td>0.031607</td>\n",
       "    </tr>\n",
       "    <tr>\n",
       "      <th>4</th>\n",
       "      <td>7.848507</td>\n",
       "      <td>0.675717</td>\n",
       "      <td>2.141359</td>\n",
       "      <td>-0.398808</td>\n",
       "      <td>0.370072</td>\n",
       "      <td>0.058590</td>\n",
       "    </tr>\n",
       "    <tr>\n",
       "      <th>...</th>\n",
       "      <td>...</td>\n",
       "      <td>...</td>\n",
       "      <td>...</td>\n",
       "      <td>...</td>\n",
       "      <td>...</td>\n",
       "      <td>...</td>\n",
       "    </tr>\n",
       "    <tr>\n",
       "      <th>564</th>\n",
       "      <td>15.717126</td>\n",
       "      <td>-0.871626</td>\n",
       "      <td>-1.131575</td>\n",
       "      <td>0.288426</td>\n",
       "      <td>0.720055</td>\n",
       "      <td>0.008563</td>\n",
       "    </tr>\n",
       "    <tr>\n",
       "      <th>565</th>\n",
       "      <td>2.379988</td>\n",
       "      <td>0.554697</td>\n",
       "      <td>-1.157613</td>\n",
       "      <td>1.055736</td>\n",
       "      <td>0.323168</td>\n",
       "      <td>0.525161</td>\n",
       "    </tr>\n",
       "    <tr>\n",
       "      <th>566</th>\n",
       "      <td>11.586536</td>\n",
       "      <td>0.426375</td>\n",
       "      <td>-0.358417</td>\n",
       "      <td>-0.064733</td>\n",
       "      <td>0.849829</td>\n",
       "      <td>0.025199</td>\n",
       "    </tr>\n",
       "    <tr>\n",
       "      <th>567</th>\n",
       "      <td>0.641669</td>\n",
       "      <td>-0.056897</td>\n",
       "      <td>-0.270050</td>\n",
       "      <td>0.754823</td>\n",
       "      <td>0.591815</td>\n",
       "      <td>1.670335</td>\n",
       "    </tr>\n",
       "    <tr>\n",
       "      <th>568</th>\n",
       "      <td>4.339622</td>\n",
       "      <td>0.916600</td>\n",
       "      <td>-0.202453</td>\n",
       "      <td>-0.285290</td>\n",
       "      <td>0.843373</td>\n",
       "      <td>0.190648</td>\n",
       "    </tr>\n",
       "  </tbody>\n",
       "</table>\n",
       "<p>569 rows × 6 columns</p>\n",
       "</div>"
      ],
      "text/plain": [
       "            x1        x2        x3        x4        x5         y\n",
       "0    10.493885 -0.359581  0.254364  0.593046  0.432593  0.023722\n",
       "1    12.481717 -0.796263  1.193631 -1.098599  0.721224  0.014009\n",
       "2    17.110862  0.696601  0.289725  0.392631  0.202218  0.012581\n",
       "3    10.305360  0.410720  0.030711  0.430333  0.843228  0.031607\n",
       "4     7.848507  0.675717  2.141359 -0.398808  0.370072  0.058590\n",
       "..         ...       ...       ...       ...       ...       ...\n",
       "564  15.717126 -0.871626 -1.131575  0.288426  0.720055  0.008563\n",
       "565   2.379988  0.554697 -1.157613  1.055736  0.323168  0.525161\n",
       "566  11.586536  0.426375 -0.358417 -0.064733  0.849829  0.025199\n",
       "567   0.641669 -0.056897 -0.270050  0.754823  0.591815  1.670335\n",
       "568   4.339622  0.916600 -0.202453 -0.285290  0.843373  0.190648\n",
       "\n",
       "[569 rows x 6 columns]"
      ]
     },
     "execution_count": 2,
     "metadata": {},
     "output_type": "execute_result"
    }
   ],
   "source": [
    "import pandas as pd #cvs importing\n",
    "import numpy as np\n",
    "from sklearn.model_selection import train_test_split, GridSearchCV\n",
    "from sklearn.neighbors import KNeighborsRegressor\n",
    "from sklearn.metrics import mean_squared_error\n",
    "\n",
    "RANDOM_SEED = 420\n",
    "df = pd.read_csv('podatki_DN1_1.csv', header=0)\n",
    "columns = df.columns[1:] #1. stolpec je le dekoracijski\n",
    "df = df[columns]\n",
    "X = df[['x1', 'x2', 'x3', 'x4', 'x5']]\n",
    "y = df['y']\n",
    "X_train, X_test, y_train, y_test = train_test_split(X, y, train_size=2/3, random_state=RANDOM_SEED)\n",
    "df"
   ]
  },
  {
   "cell_type": "markdown",
   "metadata": {},
   "source": [
    "Model najbližjih sosedov."
   ]
  },
  {
   "cell_type": "code",
   "execution_count": 3,
   "metadata": {},
   "outputs": [
    {
     "name": "stdout",
     "output_type": "stream",
     "text": [
      "Napaka knn modela za k=3 je  0.012423075075045954\n"
     ]
    }
   ],
   "source": [
    "knn3 = KNeighborsRegressor(n_neighbors=3)\n",
    "knn3.fit(X_train, y_train)\n",
    "mse3 = mean_squared_error(y_test, knn3.predict(X_test))\n",
    "print('Napaka knn modela za k=3 je ', mse3)"
   ]
  },
  {
   "cell_type": "markdown",
   "metadata": {},
   "source": [
    "Iskanje optimalnega števila sosedov s pomočjo bootstrapinga"
   ]
  },
  {
   "cell_type": "code",
   "execution_count": 12,
   "metadata": {},
   "outputs": [
    {
     "name": "stderr",
     "output_type": "stream",
     "text": [
      "100%|██████████| 9/9 [04:21<00:00, 29.01s/it]"
     ]
    },
    {
     "name": "stdout",
     "output_type": "stream",
     "text": [
      "Optimalen k je 1, z napako  0.013192402819058759 \n"
     ]
    },
    {
     "name": "stderr",
     "output_type": "stream",
     "text": [
      "\n"
     ]
    }
   ],
   "source": [
    "from sklearn.utils import resample\n",
    "from tqdm import tqdm\n",
    "k_range = list(range(1,10))\n",
    "def boot(X, y,model, n_iterations):\n",
    "    '''\n",
    "    Z bootstrapingom oceni napako modela.\n",
    "    Parameters\n",
    "    ------------\n",
    "    - X, y - podatki\n",
    "    - model - razred z metodama fit() and predict()\n",
    "    - n_iterations - št_vzorcev (=št_iteracij)\n",
    "\n",
    "    Vrne\n",
    "    -------\n",
    "    Povprečno napako na vseh vzorcih (to je manj optimistična opcija)\n",
    "    '''\n",
    "    vzorci = [resample(X, y) for i in range(n_iterations)]\n",
    "    mse = []\n",
    "    for i in range(n_iterations):\n",
    "        # naučiš se na enem vzorcu\n",
    "        X_train = vzorci[i][0]\n",
    "        y_train = vzorci[i][1]\n",
    "        model.fit(X_train, y_train)\n",
    "        # potestiraš na ostalih\n",
    "        # i-ta napaka je mse na ostalih vzorcih\n",
    "        # ker so vsi vzorci enako veliki (veliki so |X|)\n",
    "        # dobimo enako, če seštejemo vse napake na vzorcih in delimo s št_ ostalih vzorccev\n",
    "        err = 0\n",
    "        for j in range(n_iterations):\n",
    "            if j == i:\n",
    "                continue\n",
    "            X_test = vzorci[j][0]\n",
    "            y_test = vzorci[j][1]\n",
    "            err += mean_squared_error(y_test, model.predict(X_test))\n",
    "        err /= n_iterations -1\n",
    "        mse.append(err)\n",
    "    return  np.mean(mse)\n",
    "\n",
    "\n",
    "def knn_boot(X, y, n_iterations, param_space):\n",
    "    '''\n",
    "    Poišče najbolši k za knn z bootstrapingom\n",
    "\n",
    "    Parametri\n",
    "    ----------\n",
    "    - X, y - podatki\n",
    "    - param_space - vrednosti k-jev, ki jih testiramo\n",
    "    Vrne\n",
    "    ---------\n",
    "    dictionary with keys\n",
    "        'opt' - optimalen parameter\n",
    "        'mse'\n",
    "    '''\n",
    "    napaka = float('inf')\n",
    "    opt = -1\n",
    "    # če ni tqdm-ja:\n",
    "    #for k in param_space:\n",
    "    for k in tqdm(param_space, total=len(param_space)):\n",
    "        tmp_napaka = boot(X, y, KNeighborsRegressor(n_neighbors=k), n_iterations)\n",
    "        if tmp_napaka < napaka:\n",
    "            napaka = tmp_napaka\n",
    "            opt = k\n",
    "    return {'opt': opt, 'mse' : napaka}\n",
    "        \n",
    "optimalen = knn_boot(X_train, y_train, 100, k_range)  \n",
    "k = optimalen['opt']\n",
    "min_napaka = optimalen['mse']\n",
    "print(f'Optimalen k je {k}, z napako  {min_napaka} ')\n",
    "\n",
    "\n"
   ]
  },
  {
   "cell_type": "markdown",
   "metadata": {},
   "source": [
    "Optimalen k s CV"
   ]
  },
  {
   "cell_type": "code",
   "execution_count": 5,
   "metadata": {},
   "outputs": [
    {
     "name": "stdout",
     "output_type": "stream",
     "text": [
      "Napaka:  0.023355105347579144\n",
      "Optimalni parametri:  {'n_neighbors': 4}\n"
     ]
    }
   ],
   "source": [
    "k_range = list(range(1, 100))\n",
    "knn = KNeighborsRegressor()\n",
    "param_grid = dict(n_neighbors=k_range)\n",
    "# grid with 10 folkd cross validation\n",
    "grid = GridSearchCV(knn, param_grid,  cv=5, scoring='neg_mean_squared_error')\n",
    "grid.fit(X_train, y_train)\n",
    "\n",
    "print('Napaka: ', -grid.best_score_)\n",
    "print('Optimalni parametri: ', grid.best_params_)"
   ]
  },
  {
   "cell_type": "markdown",
   "metadata": {},
   "source": [
    "Linearna regresija + izbira nazaj"
   ]
  },
  {
   "cell_type": "code",
   "execution_count": 7,
   "metadata": {},
   "outputs": [
    {
     "name": "stdout",
     "output_type": "stream",
     "text": [
      "ranking:  [1 1 2 3 1]\n",
      "selected features:  [0 1 4]\n"
     ]
    }
   ],
   "source": [
    "from sklearn.linear_model import LinearRegression\n",
    "from sklearn.feature_selection import RFECV\n",
    "estimator = LinearRegression()\n",
    "selector = RFECV(estimator, step=1)\n",
    "selector.fit(X_train, y_train)\n",
    "print('ranking: ', selector.ranking_)\n",
    "print('selected features: ', selector.get_support(indices=True))"
   ]
  },
  {
   "cell_type": "markdown",
   "metadata": {},
   "source": [
    "Zanesljivost izbire"
   ]
  },
  {
   "cell_type": "code",
   "execution_count": 8,
   "metadata": {},
   "outputs": [
    {
     "name": "stdout",
     "output_type": "stream",
     "text": [
      "Napaka na celi množici:  0.11828449048167765\n",
      "Napaka, če upoštevamo le izbrane značilke:  0.11799456316147854\n"
     ]
    }
   ],
   "source": [
    "reg = LinearRegression()\n",
    "reg.fit(X_train, y_train)\n",
    "err_cel_X = mean_squared_error(y_test, reg.predict(X_test))\n",
    "err_fs = mean_squared_error(y_test, selector.predict(X_test))\n",
    "print(\"Napaka na celi množici: \", err_cel_X)\n",
    "print(\"Napaka, če upoštevamo le izbrane značilke: \", err_fs)"
   ]
  },
  {
   "cell_type": "markdown",
   "metadata": {},
   "source": [
    "Ocena se zdi zelo zanesljiva, saj sta napaki skoraj enaki."
   ]
  }
 ],
 "metadata": {
  "interpreter": {
   "hash": "31f2aee4e71d21fbe5cf8b01ff0e069b9275f58929596ceb00d14d90e3e16cd6"
  },
  "kernelspec": {
   "display_name": "Python 3.8.10 64-bit",
   "language": "python",
   "name": "python3"
  },
  "language_info": {
   "codemirror_mode": {
    "name": "ipython",
    "version": 3
   },
   "file_extension": ".py",
   "mimetype": "text/x-python",
   "name": "python",
   "nbconvert_exporter": "python",
   "pygments_lexer": "ipython3",
   "version": "3.8.10"
  },
  "orig_nbformat": 4
 },
 "nbformat": 4,
 "nbformat_minor": 2
}
